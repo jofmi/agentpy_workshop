{
 "cells": [
  {
   "cell_type": "markdown",
   "id": "economic-purple",
   "metadata": {},
   "source": [
    "# Interactive simulations"
   ]
  },
  {
   "cell_type": "markdown",
   "id": "warming-vegetable",
   "metadata": {},
   "source": [
    "The exploration of agent-based models can often be guided through an interactive simulation interface that allows users to visualize the models dynamics and adjust parameter values while a simulation is running. Examples are the traditional interface of [NetLogo](https://ccl.northwestern.edu/netlogo/), or the browser-based visualization module of [Mesa](https://mesa.readthedocs.io/). \n",
    "\n",
    "This guide shows how to create such interactive interfaces for agentpy models within a Jupyter Notebook by using the libraries [IPySimulate](https://github.com/JoelForamitti/ipysimulate), [ipywidgets](https://ipywidgets.readthedocs.io/) and [d3.js](https://d3js.org/). This approach is still in an early stage of development, and more features will follow in the future. Contributions are very welcome :)"
   ]
  },
  {
   "cell_type": "code",
   "execution_count": 1,
   "id": "higher-dietary",
   "metadata": {},
   "outputs": [],
   "source": [
    "import agentpy as ap\n",
    "import ipysimulate as ips\n",
    "\n",
    "from ipywidgets import AppLayout\n",
    "from agentpy.examples import WealthModel, SegregationModel"
   ]
  },
  {
   "cell_type": "markdown",
   "id": "published-liberal",
   "metadata": {},
   "source": [
    "## Lineplot"
   ]
  },
  {
   "cell_type": "markdown",
   "id": "maritime-wichita",
   "metadata": {},
   "source": [
    "To begin we create an instance of the [wealth transfer model](https://agentpy.readthedocs.io/en/stable/agentpy_wealth_transfer.html) (without parameters)."
   ]
  },
  {
   "cell_type": "code",
   "execution_count": 2,
   "id": "protective-export",
   "metadata": {},
   "outputs": [],
   "source": [
    "model = WealthModel()"
   ]
  },
  {
   "cell_type": "markdown",
   "id": "maritime-salad",
   "metadata": {},
   "source": [
    "Parameters that are given as ranges will appear as interactive slider widgets. The parameter `fps` (frames per second) will be used automatically to indicate the speed of the simulation. The third value in the range defines the default position of the slider."
   ]
  },
  {
   "cell_type": "code",
   "execution_count": 3,
   "id": "ultimate-saint",
   "metadata": {},
   "outputs": [],
   "source": [
    "parameters = {\n",
    "    'agents': 1000,\n",
    "    'steps': 100,\n",
    "    'fps': ap.IntRange(1, 20, 5),\n",
    "}"
   ]
  },
  {
   "cell_type": "markdown",
   "id": "formal-cycling",
   "metadata": {},
   "source": [
    "We then create an ipysimulate control panel with the model and our set of parameters. We further pass two variables `t` (time-steps) and `gini` to be displayed live during the simulation."
   ]
  },
  {
   "cell_type": "code",
   "execution_count": 4,
   "id": "operational-genetics",
   "metadata": {},
   "outputs": [],
   "source": [
    "control = ips.Control(model, parameters, variables=('t', 'gini'))"
   ]
  },
  {
   "cell_type": "markdown",
   "id": "ideal-melbourne",
   "metadata": {},
   "source": [
    "Next, we create a lineplot of the variable `gini`:"
   ]
  },
  {
   "cell_type": "code",
   "execution_count": 5,
   "id": "following-jackson",
   "metadata": {},
   "outputs": [],
   "source": [
    "lineplot = ips.Lineplot(control, 'gini')"
   ]
  },
  {
   "cell_type": "markdown",
   "id": "sporting-table",
   "metadata": {},
   "source": [
    "Finally, we want to display our two widgets `control` and `lineplot` next to each other. For this, we can use the [layout templates](https://ipywidgets.readthedocs.io/en/stable/examples/Layout%20Templates.html) from ipywidgets. "
   ]
  },
  {
   "cell_type": "code",
   "execution_count": 6,
   "id": "tribal-porcelain",
   "metadata": {},
   "outputs": [
    {
     "data": {
      "application/vnd.jupyter.widget-view+json": {
       "model_id": "ae1490124d2048c6bd8ba0ce9e9f1ba1",
       "version_major": 2,
       "version_minor": 0
      },
      "text/plain": [
       "AppLayout(children=(Control(layout=Layout(grid_area='left-sidebar'), parameters={'agents': 1000, 'steps': 100,…"
      ]
     },
     "metadata": {},
     "output_type": "display_data"
    }
   ],
   "source": [
    "AppLayout(\n",
    "    left_sidebar=control,\n",
    "    center=lineplot,\n",
    "    pane_widths=['125px', 1, 1], \n",
    "    height='400px'\n",
    ")"
   ]
  },
  {
   "cell_type": "markdown",
   "id": "infinite-spread",
   "metadata": {},
   "source": [
    "Note that this widget is not displayed interactively if viewed in the docs. To view the widget, please download the Jupyter Notebook at the top of this page or launch this notebook as a binder. Here is a screenshot of an interactive simulation:"
   ]
  },
  {
   "cell_type": "markdown",
   "id": "measured-machinery",
   "metadata": {},
   "source": [
    "![Interactive simulation interface with a lineplot](graphics/ips_wealth.png)"
   ]
  },
  {
   "cell_type": "markdown",
   "id": "structured-simpson",
   "metadata": {},
   "source": [
    "## Scatterplot"
   ]
  },
  {
   "cell_type": "markdown",
   "id": "opponent-inspiration",
   "metadata": {},
   "source": [
    "In this second demonstration, we create an instance of the [\n",
    "segregation model](https://agentpy.readthedocs.io/en/stable/agentpy_segregation.html):"
   ]
  },
  {
   "cell_type": "code",
   "execution_count": 7,
   "id": "parental-concentration",
   "metadata": {},
   "outputs": [],
   "source": [
    "model = SegregationModel()"
   ]
  },
  {
   "cell_type": "code",
   "execution_count": 8,
   "id": "statutory-destination",
   "metadata": {},
   "outputs": [],
   "source": [
    "parameters = {\n",
    "    'fps': ap.IntRange(1, 10, 5),\n",
    "    'want_similar': ap.Range(0, 1, 0.3),\n",
    "    'n_groups': ap.Values(2, 3, 4),\n",
    "    'density': ap.Range(0, 1, 0.95),\n",
    "    'size': 50,\n",
    "}"
   ]
  },
  {
   "cell_type": "code",
   "execution_count": 9,
   "id": "recovered-mapping",
   "metadata": {},
   "outputs": [],
   "source": [
    "control = ips.Control(model, parameters, ('t'))\n",
    "scatterplot = ips.Scatterplot(\n",
    "    control, \n",
    "    xy=lambda m: m.grid.positions.values(),\n",
    "    c=lambda m: m.agents.group\n",
    ")"
   ]
  },
  {
   "cell_type": "code",
   "execution_count": 10,
   "id": "stylish-syndication",
   "metadata": {},
   "outputs": [
    {
     "data": {
      "application/vnd.jupyter.widget-view+json": {
       "model_id": "2d6a671a7cf64599a55ac801b5433c6d",
       "version_major": 2,
       "version_minor": 0
      },
      "text/plain": [
       "AppLayout(children=(Control(layout=Layout(grid_area='left-sidebar'), parameters={'fps': 5, 'want_similar': 0.3…"
      ]
     },
     "metadata": {},
     "output_type": "display_data"
    }
   ],
   "source": [
    "AppLayout(left_sidebar=control,\n",
    "          center=scatterplot,\n",
    "          pane_widths=['125px', 1, 1], \n",
    "          height='400px')"
   ]
  },
  {
   "cell_type": "markdown",
   "id": "passing-specific",
   "metadata": {},
   "source": [
    "Note that this widget is not displayed interactively if viewed in the docs. To view the widget, please download the Jupyter Notebook at the top of this page or launch this notebook as a binder. Here is a screenshot of an interactive simulation:"
   ]
  },
  {
   "cell_type": "markdown",
   "id": "social-twenty",
   "metadata": {},
   "source": [
    "![Interactive simulation interface with a scatterplot](graphics/ips_segregation.png)"
   ]
  }
 ],
 "metadata": {
  "kernelspec": {
   "display_name": "Python 3",
   "language": "python",
   "name": "python3"
  },
  "language_info": {
   "codemirror_mode": {
    "name": "ipython",
    "version": 3
   },
   "file_extension": ".py",
   "mimetype": "text/x-python",
   "name": "python",
   "nbconvert_exporter": "python",
   "pygments_lexer": "ipython3",
   "version": "3.8.5"
  }
 },
 "nbformat": 4,
 "nbformat_minor": 5
}
