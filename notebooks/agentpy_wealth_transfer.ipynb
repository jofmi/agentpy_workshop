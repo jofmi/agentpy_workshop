{
 "cells": [
  {
   "cell_type": "markdown",
   "metadata": {},
   "source": [
    "# Wealth transfer"
   ]
  },
  {
   "cell_type": "markdown",
   "metadata": {},
   "source": [
    "This notebook presents a tutorial for beginners on how to create a simple agent-based model with the [agentpy](https://agentpy.readthedocs.io) package. \n",
    "It demonstrates how to create a basic model with a custom agent type, run a simulation, record data, and visualize results."
   ]
  },
  {
   "cell_type": "code",
   "execution_count": 1,
   "metadata": {},
   "outputs": [],
   "source": [
    "# Model design\n",
    "import agentpy as ap\n",
    "import numpy as np \n",
    "\n",
    "# Visualization\n",
    "import seaborn as sns"
   ]
  },
  {
   "cell_type": "markdown",
   "metadata": {},
   "source": [
    "## About the model\n",
    "\n",
    "The model explores the distribution of wealth under a trading population of agents. \n",
    "Each agent starts with one unit of wealth. \n",
    "During each time-step, each agents with positive wealth \n",
    "randomly selects a trading partner and gives them one unit of their wealth.\n",
    "We will see that this random interaction will create an inequality of wealth that \n",
    "follows a [Boltzmann distribution](http://www.phys.ufl.edu/~meisel/Boltzmann.pdf).\n",
    "The original version of this model been written in [MESA](https://mesa.readthedocs.io/) \n",
    "and can be found [here](https://mesa.readthedocs.io/en/master/tutorials/intro_tutorial.html)."
   ]
  },
  {
   "cell_type": "markdown",
   "metadata": {},
   "source": [
    "## Model definition"
   ]
  },
  {
   "cell_type": "markdown",
   "metadata": {
    "raw_mimetype": "text/restructuredtext"
   },
   "source": [
    "We start by defining a new type of `Agent` with the following methods:\n",
    "\n",
    "- `setup()` is called automatically when a new agent is created and initializes a variable `wealth`.\n",
    "- `wealth_transfer()` describes the agent's behavior at every time-step and will be called by the model."
   ]
  },
  {
   "cell_type": "code",
   "execution_count": 2,
   "metadata": {},
   "outputs": [],
   "source": [
    "class WealthAgent(ap.Agent):\n",
    "\n",
    "    \"\"\" An agent with wealth \"\"\"\n",
    "\n",
    "    def setup(self):\n",
    "\n",
    "        self.wealth = 1\n",
    "\n",
    "    def wealth_transfer(self):\n",
    "\n",
    "        if self.wealth > 0:\n",
    "\n",
    "            partner = self.model.agents.random()\n",
    "            partner.wealth += 1\n",
    "            self.wealth -= 1"
   ]
  },
  {
   "cell_type": "markdown",
   "metadata": {
    "raw_mimetype": "text/restructuredtext"
   },
   "source": [
    "Next, we define a method to calculate the [Gini Coefficient](https://en.wikipedia.org/wiki/Gini_coefficient), \n",
    "which will measure the inequality among our agents."
   ]
  },
  {
   "cell_type": "code",
   "execution_count": 3,
   "metadata": {},
   "outputs": [],
   "source": [
    "def gini(x):\n",
    "\n",
    "    \"\"\" Calculate Gini Coefficient \"\"\"\n",
    "    # By Warren Weckesser https://stackoverflow.com/a/39513799\n",
    "    \n",
    "    x = np.array(x)\n",
    "    mad = np.abs(np.subtract.outer(x, x)).mean()  # Mean absolute difference\n",
    "    rmad = mad / np.mean(x)  # Relative mean absolute difference\n",
    "    return 0.5 * rmad "
   ]
  },
  {
   "cell_type": "markdown",
   "metadata": {
    "raw_mimetype": "text/restructuredtext"
   },
   "source": [
    "Finally, we define our [`Model`](https://agentpy.readthedocs.io/en/stable/reference_models.html) with the following methods:\n",
    "\n",
    "- `setup` defines how many agents should be created at the beginning of the simulation. \n",
    "- `step` calls all agents during each time-step to perform their `wealth_transfer` method. \n",
    "- `update` calculates and record the current Gini coefficient after each time-step. \n",
    "- `end`, which is called at the end of the simulation, we record the wealth of each agent."
   ]
  },
  {
   "cell_type": "code",
   "execution_count": 4,
   "metadata": {},
   "outputs": [],
   "source": [
    "class WealthModel(ap.Model):\n",
    "\n",
    "    \"\"\" A simple model of random wealth transfers \"\"\"\n",
    "\n",
    "    def setup(self):\n",
    "\n",
    "        self.agents = ap.AgentList(self, self.p.agents, WealthAgent)\n",
    "\n",
    "    def step(self):\n",
    "\n",
    "        self.agents.wealth_transfer()\n",
    "\n",
    "    def update(self):\n",
    "\n",
    "        self.record('Gini Coefficient', gini(self.agents.wealth))\n",
    "\n",
    "    def end(self):\n",
    "\n",
    "        self.agents.record('wealth')"
   ]
  },
  {
   "cell_type": "markdown",
   "metadata": {},
   "source": [
    "## Simulation run"
   ]
  },
  {
   "cell_type": "markdown",
   "metadata": {
    "raw_mimetype": "text/restructuredtext"
   },
   "source": [
    "To prepare, we define parameter dictionary with a [random seed](https://agentpy.readthedocs.io/en/stable/guide_random.html), the number of agents, and the number of time-steps."
   ]
  },
  {
   "cell_type": "code",
   "execution_count": 5,
   "metadata": {},
   "outputs": [],
   "source": [
    "parameters = {\n",
    "    'agents': 100,\n",
    "    'steps': 100,\n",
    "    'seed': 42,\n",
    "}"
   ]
  },
  {
   "cell_type": "markdown",
   "metadata": {
    "raw_mimetype": "text/restructuredtext"
   },
   "source": [
    "To perform a simulation, we initialize our model with a given set of parameters and call [`Model.run()`](https://agentpy.readthedocs.io/en/stable/reference_models.html)."
   ]
  },
  {
   "cell_type": "code",
   "execution_count": 6,
   "metadata": {},
   "outputs": [
    {
     "name": "stdout",
     "output_type": "stream",
     "text": [
      "Completed: 100 steps\n",
      "Run time: 0:00:00.124199\n",
      "Simulation finished\n"
     ]
    }
   ],
   "source": [
    "model = WealthModel(parameters)\n",
    "results = model.run()"
   ]
  },
  {
   "cell_type": "markdown",
   "metadata": {},
   "source": [
    "## Output analysis"
   ]
  },
  {
   "cell_type": "markdown",
   "metadata": {},
   "source": [
    "The simulation returns a [`DataDict`](https://agentpy.readthedocs.io/en/stable/reference_output.html) with our recorded variables."
   ]
  },
  {
   "cell_type": "code",
   "execution_count": 7,
   "metadata": {},
   "outputs": [
    {
     "data": {
      "text/plain": [
       "DataDict {\n",
       "'info': Dictionary with 9 keys\n",
       "'parameters': \n",
       "    'constants': Dictionary with 3 keys\n",
       "'variables': \n",
       "    'WealthModel': DataFrame with 1 variable and 101 rows\n",
       "    'WealthAgent': DataFrame with 1 variable and 100 rows\n",
       "}"
      ]
     },
     "execution_count": 7,
     "metadata": {},
     "output_type": "execute_result"
    }
   ],
   "source": [
    "results"
   ]
  },
  {
   "cell_type": "markdown",
   "metadata": {},
   "source": [
    "The output's `info` provides general information about the simulation."
   ]
  },
  {
   "cell_type": "code",
   "execution_count": 8,
   "metadata": {},
   "outputs": [
    {
     "data": {
      "text/plain": [
       "{'model_type': 'WealthModel',\n",
       " 'time_stamp': '2021-05-28 09:33:50',\n",
       " 'agentpy_version': '0.0.8.dev0',\n",
       " 'python_version': '3.8.5',\n",
       " 'experiment': False,\n",
       " 'completed': True,\n",
       " 'created_objects': 100,\n",
       " 'completed_steps': 100,\n",
       " 'run_time': '0:00:00.124199'}"
      ]
     },
     "execution_count": 8,
     "metadata": {},
     "output_type": "execute_result"
    }
   ],
   "source": [
    "results.info"
   ]
  },
  {
   "cell_type": "markdown",
   "metadata": {},
   "source": [
    "To explore the evolution of inequality,\n",
    "we look at the recorded [`DataFrame`](https://pandas.pydata.org/pandas-docs/stable/reference/api/pandas.DataFrame.html) of the model's variables."
   ]
  },
  {
   "cell_type": "code",
   "execution_count": 9,
   "metadata": {},
   "outputs": [
    {
     "data": {
      "text/html": [
       "<div>\n",
       "<style scoped>\n",
       "    .dataframe tbody tr th:only-of-type {\n",
       "        vertical-align: middle;\n",
       "    }\n",
       "\n",
       "    .dataframe tbody tr th {\n",
       "        vertical-align: top;\n",
       "    }\n",
       "\n",
       "    .dataframe thead th {\n",
       "        text-align: right;\n",
       "    }\n",
       "</style>\n",
       "<table border=\"1\" class=\"dataframe\">\n",
       "  <thead>\n",
       "    <tr style=\"text-align: right;\">\n",
       "      <th></th>\n",
       "      <th>Gini Coefficient</th>\n",
       "    </tr>\n",
       "    <tr>\n",
       "      <th>t</th>\n",
       "      <th></th>\n",
       "    </tr>\n",
       "  </thead>\n",
       "  <tbody>\n",
       "    <tr>\n",
       "      <th>0</th>\n",
       "      <td>0.0000</td>\n",
       "    </tr>\n",
       "    <tr>\n",
       "      <th>1</th>\n",
       "      <td>0.5370</td>\n",
       "    </tr>\n",
       "    <tr>\n",
       "      <th>2</th>\n",
       "      <td>0.5690</td>\n",
       "    </tr>\n",
       "    <tr>\n",
       "      <th>3</th>\n",
       "      <td>0.5614</td>\n",
       "    </tr>\n",
       "    <tr>\n",
       "      <th>4</th>\n",
       "      <td>0.5794</td>\n",
       "    </tr>\n",
       "  </tbody>\n",
       "</table>\n",
       "</div>"
      ],
      "text/plain": [
       "   Gini Coefficient\n",
       "t                  \n",
       "0            0.0000\n",
       "1            0.5370\n",
       "2            0.5690\n",
       "3            0.5614\n",
       "4            0.5794"
      ]
     },
     "execution_count": 9,
     "metadata": {},
     "output_type": "execute_result"
    }
   ],
   "source": [
    "results.variables.WealthModel.head()"
   ]
  },
  {
   "cell_type": "markdown",
   "metadata": {
    "raw_mimetype": "text/restructuredtext"
   },
   "source": [
    "To visualize this data, \n",
    "we can use [`DataFrame.plot`](https://pandas.pydata.org/pandas-docs/stable/reference/api/pandas.DataFrame.plot.html)."
   ]
  },
  {
   "cell_type": "code",
   "execution_count": 10,
   "metadata": {},
   "outputs": [
    {
     "data": {
      "image/png": "[encoded data removed]",
      "text/plain": [
       "<Figure size 432x288 with 1 Axes>"
      ]
     },
     "metadata": {
      "needs_background": "light"
     },
     "output_type": "display_data"
    }
   ],
   "source": [
    "data = results.variables.WealthModel\n",
    "ax = data.plot()"
   ]
  },
  {
   "cell_type": "markdown",
   "metadata": {
    "raw_mimetype": "text/restructuredtext"
   },
   "source": [
    "To look at the distribution at the end of the simulation, \n",
    "we visualize the recorded agent variables with [seaborn](https://seaborn.pydata.org/)."
   ]
  },
  {
   "cell_type": "code",
   "execution_count": 11,
   "metadata": {},
   "outputs": [
    {
     "data": {
      "image/png": "[encoded data removed]",
      "text/plain": [
       "<Figure size 432x288 with 1 Axes>"
      ]
     },
     "metadata": {
      "needs_background": "light"
     },
     "output_type": "display_data"
    }
   ],
   "source": [
    "sns.histplot(data=results.variables.WealthAgent, binwidth=1);"
   ]
  },
  {
   "cell_type": "markdown",
   "metadata": {
    "raw_mimetype": "text/restructuredtext"
   },
   "source": [
    "The result resembles a [Boltzmann distribution](http://www.phys.ufl.edu/~meisel/Boltzmann.pdf)."
   ]
  }
 ],
 "metadata": {
  "kernelspec": {
   "display_name": "Python 3",
   "language": "python",
   "name": "python3"
  },
  "language_info": {
   "codemirror_mode": {
    "name": "ipython",
    "version": 3
   },
   "file_extension": ".py",
   "mimetype": "text/x-python",
   "name": "python",
   "nbconvert_exporter": "python",
   "pygments_lexer": "ipython3",
   "version": "3.8.5"
  }
 },
 "nbformat": 4,
 "nbformat_minor": 4
}
