{
 "cells": [
  {
   "cell_type": "markdown",
   "id": "convenient-principle",
   "metadata": {},
   "source": [
    "# Exploratory modelling and analysis (EMA)"
   ]
  },
  {
   "cell_type": "markdown",
   "id": "suspected-unknown",
   "metadata": {},
   "source": [
    "This guide shows how to use agentpy models together with the [EMA Workbench](https://emaworkbench.readthedocs.io/). Similar to the agentpy `Experiment` class, this library can be used to perform experiments over different parameter combinations and multiple runs, but offers more advanced tools for parameter sampling and analysis with the aim to support decision making under deep uncertainty."
   ]
  },
  {
   "cell_type": "markdown",
   "id": "eligible-hungarian",
   "metadata": {},
   "source": [
    "## Converting an agentpy model to a function"
   ]
  },
  {
   "cell_type": "markdown",
   "id": "independent-gateway",
   "metadata": {},
   "source": [
    "Let us start by defining an agent-based model. Here, we use the wealth transfer model from the [model library](https://agentpy.readthedocs.io/en/stable/model_library.html)."
   ]
  },
  {
   "cell_type": "code",
   "execution_count": 1,
   "id": "conceptual-length",
   "metadata": {},
   "outputs": [],
   "source": [
    "import agentpy as ap\n",
    "from agentpy.examples import WealthModel"
   ]
  },
  {
   "cell_type": "markdown",
   "id": "velvet-trick",
   "metadata": {},
   "source": [
    "To use the EMA Workbench, we need to convert our model to a function that takes each parameter as a keyword argument and returns a dictionary of the recorded evaluation measures."
   ]
  },
  {
   "cell_type": "code",
   "execution_count": 2,
   "id": "organic-keeping",
   "metadata": {},
   "outputs": [],
   "source": [
    "wealth_model = WealthModel.as_function()"
   ]
  },
  {
   "cell_type": "code",
   "execution_count": 3,
   "id": "differential-baltimore",
   "metadata": {},
   "outputs": [
    {
     "name": "stdout",
     "output_type": "stream",
     "text": [
      "Help on function agentpy_model_as_function in module agentpy.model:\n",
      "\n",
      "agentpy_model_as_function(**kwargs)\n",
      "    Performs a simulation of the model 'WealthModel'.\n",
      "    \n",
      "    Arguments:\n",
      "        **kwargs: Keyword arguments with parameter values.\n",
      "    \n",
      "    Returns:\n",
      "        dict: Reporters of the model.\n",
      "\n"
     ]
    }
   ],
   "source": [
    "help(wealth_model)"
   ]
  },
  {
   "cell_type": "markdown",
   "id": "sonic-matter",
   "metadata": {},
   "source": [
    "Let us test out this function:"
   ]
  },
  {
   "cell_type": "code",
   "execution_count": 4,
   "id": "committed-witch",
   "metadata": {},
   "outputs": [
    {
     "data": {
      "text/plain": [
       "{'gini': 0.32}"
      ]
     },
     "execution_count": 4,
     "metadata": {},
     "output_type": "execute_result"
    }
   ],
   "source": [
    "wealth_model(agents=5, steps=5)"
   ]
  },
  {
   "cell_type": "markdown",
   "id": "blessed-conditions",
   "metadata": {},
   "source": [
    "## Using the EMA Workbench"
   ]
  },
  {
   "cell_type": "markdown",
   "id": "structural-magazine",
   "metadata": {},
   "source": [
    "Here is an example on how to set up an experiment with the EMA Workbench. For more information, please visit the [documentation](https://emaworkbench.readthedocs.io/) of EMA Workbench."
   ]
  },
  {
   "cell_type": "code",
   "execution_count": 9,
   "id": "appointed-operation",
   "metadata": {},
   "outputs": [],
   "source": [
    "from ema_workbench import (IntegerParameter, Constant, ScalarOutcome, \n",
    "                           Model, perform_experiments, ema_logging)"
   ]
  },
  {
   "cell_type": "code",
   "execution_count": 6,
   "id": "intimate-comfort",
   "metadata": {},
   "outputs": [
    {
     "name": "stderr",
     "output_type": "stream",
     "text": [
      "performing 100 scenarios * 1 policies * 1 model(s) = 100 experiments\n",
      "performing experiments sequentially\n",
      "10 cases completed\n",
      "20 cases completed\n",
      "30 cases completed\n",
      "40 cases completed\n",
      "50 cases completed\n",
      "60 cases completed\n",
      "70 cases completed\n",
      "80 cases completed\n",
      "90 cases completed\n",
      "100 cases completed\n",
      "experiments finished\n"
     ]
    }
   ],
   "source": [
    "if __name__ == '__main__':\n",
    "    \n",
    "    ema_logging.LOG_FORMAT = '%(message)s'\n",
    "    ema_logging.log_to_stderr(ema_logging.INFO)\n",
    "\n",
    "    model = Model('WealthModel', function=wealth_model)\n",
    "    model.uncertainties = [IntegerParameter('agents', 10, 100)]\n",
    "    model.constants = [Constant('steps', 100)]\n",
    "    model.outcomes = [ScalarOutcome('gini')]\n",
    "\n",
    "    results = perform_experiments(model, 100)"
   ]
  },
  {
   "cell_type": "code",
   "execution_count": 7,
   "id": "mobile-ideal",
   "metadata": {},
   "outputs": [
    {
     "data": {
      "text/html": [
       "<div>\n",
       "<style scoped>\n",
       "    .dataframe tbody tr th:only-of-type {\n",
       "        vertical-align: middle;\n",
       "    }\n",
       "\n",
       "    .dataframe tbody tr th {\n",
       "        vertical-align: top;\n",
       "    }\n",
       "\n",
       "    .dataframe thead th {\n",
       "        text-align: right;\n",
       "    }\n",
       "</style>\n",
       "<table border=\"1\" class=\"dataframe\">\n",
       "  <thead>\n",
       "    <tr style=\"text-align: right;\">\n",
       "      <th></th>\n",
       "      <th>agents</th>\n",
       "      <th>scenario</th>\n",
       "      <th>policy</th>\n",
       "      <th>model</th>\n",
       "    </tr>\n",
       "  </thead>\n",
       "  <tbody>\n",
       "    <tr>\n",
       "      <th>0</th>\n",
       "      <td>70.0</td>\n",
       "      <td>0</td>\n",
       "      <td>None</td>\n",
       "      <td>WealthModel</td>\n",
       "    </tr>\n",
       "    <tr>\n",
       "      <th>1</th>\n",
       "      <td>44.0</td>\n",
       "      <td>1</td>\n",
       "      <td>None</td>\n",
       "      <td>WealthModel</td>\n",
       "    </tr>\n",
       "    <tr>\n",
       "      <th>2</th>\n",
       "      <td>77.0</td>\n",
       "      <td>2</td>\n",
       "      <td>None</td>\n",
       "      <td>WealthModel</td>\n",
       "    </tr>\n",
       "    <tr>\n",
       "      <th>3</th>\n",
       "      <td>87.0</td>\n",
       "      <td>3</td>\n",
       "      <td>None</td>\n",
       "      <td>WealthModel</td>\n",
       "    </tr>\n",
       "    <tr>\n",
       "      <th>4</th>\n",
       "      <td>51.0</td>\n",
       "      <td>4</td>\n",
       "      <td>None</td>\n",
       "      <td>WealthModel</td>\n",
       "    </tr>\n",
       "    <tr>\n",
       "      <th>...</th>\n",
       "      <td>...</td>\n",
       "      <td>...</td>\n",
       "      <td>...</td>\n",
       "      <td>...</td>\n",
       "    </tr>\n",
       "    <tr>\n",
       "      <th>95</th>\n",
       "      <td>38.0</td>\n",
       "      <td>95</td>\n",
       "      <td>None</td>\n",
       "      <td>WealthModel</td>\n",
       "    </tr>\n",
       "    <tr>\n",
       "      <th>96</th>\n",
       "      <td>26.0</td>\n",
       "      <td>96</td>\n",
       "      <td>None</td>\n",
       "      <td>WealthModel</td>\n",
       "    </tr>\n",
       "    <tr>\n",
       "      <th>97</th>\n",
       "      <td>59.0</td>\n",
       "      <td>97</td>\n",
       "      <td>None</td>\n",
       "      <td>WealthModel</td>\n",
       "    </tr>\n",
       "    <tr>\n",
       "      <th>98</th>\n",
       "      <td>94.0</td>\n",
       "      <td>98</td>\n",
       "      <td>None</td>\n",
       "      <td>WealthModel</td>\n",
       "    </tr>\n",
       "    <tr>\n",
       "      <th>99</th>\n",
       "      <td>75.0</td>\n",
       "      <td>99</td>\n",
       "      <td>None</td>\n",
       "      <td>WealthModel</td>\n",
       "    </tr>\n",
       "  </tbody>\n",
       "</table>\n",
       "<p>100 rows × 4 columns</p>\n",
       "</div>"
      ],
      "text/plain": [
       "    agents scenario policy        model\n",
       "0     70.0        0   None  WealthModel\n",
       "1     44.0        1   None  WealthModel\n",
       "2     77.0        2   None  WealthModel\n",
       "3     87.0        3   None  WealthModel\n",
       "4     51.0        4   None  WealthModel\n",
       "..     ...      ...    ...          ...\n",
       "95    38.0       95   None  WealthModel\n",
       "96    26.0       96   None  WealthModel\n",
       "97    59.0       97   None  WealthModel\n",
       "98    94.0       98   None  WealthModel\n",
       "99    75.0       99   None  WealthModel\n",
       "\n",
       "[100 rows x 4 columns]"
      ]
     },
     "execution_count": 7,
     "metadata": {},
     "output_type": "execute_result"
    }
   ],
   "source": [
    "results[0]"
   ]
  },
  {
   "cell_type": "code",
   "execution_count": 10,
   "id": "coated-fence",
   "metadata": {},
   "outputs": [
    {
     "data": {
      "text/plain": [
       "{'gini': array([0.67877551, 0.61880165, 0.6392309 , 0.62491743, 0.65820838,\n",
       "        0.62191358, 0.61176471, 0.66986492, 0.6134068 , 0.63538062,\n",
       "        0.69958848, 0.63777778, 0.61862004, 0.6786    , 0.6184424 ,\n",
       "        0.61928474, 0.6446281 , 0.6358    , 0.7283737 , 0.60225922,\n",
       "        0.6404321 , 0.59729448, 0.63516068, 0.515     , 0.58301785,\n",
       "        0.66780045, 0.6321607 , 0.58131488, 0.6201873 , 0.70083247,\n",
       "        0.7       , 0.58666667, 0.58131382, 0.5964497 , 0.56014692,\n",
       "        0.6446281 , 0.59146814, 0.70919067, 0.61592693, 0.59736561,\n",
       "        0.52623457, 0.64604402, 0.56790123, 0.65675193, 0.49905482,\n",
       "        0.55250979, 0.62606626, 0.49864792, 0.63802469, 0.62722222,\n",
       "        0.65500945, 0.69010417, 0.64160156, 0.67950052, 0.60207612,\n",
       "        0.63115111, 0.64246914, 0.65162722, 0.65759637, 0.66392948,\n",
       "        0.63971072, 0.57375   , 0.55310287, 0.58692476, 0.59410431,\n",
       "        0.61950413, 0.6228125 , 0.52444444, 0.59119898, 0.63180975,\n",
       "        0.6592    , 0.6540149 , 0.60133914, 0.67884977, 0.57852447,\n",
       "        0.58739596, 0.52040816, 0.52077562, 0.66304709, 0.59750567,\n",
       "        0.57692308, 0.65189289, 0.64697266, 0.68507561, 0.66874582,\n",
       "        0.67857143, 0.59410431, 0.55953251, 0.63651717, 0.62809917,\n",
       "        0.61111111, 0.6328    , 0.64003673, 0.65140479, 0.65972222,\n",
       "        0.62465374, 0.65384615, 0.64464234, 0.61588954, 0.63111111])}"
      ]
     },
     "execution_count": 10,
     "metadata": {},
     "output_type": "execute_result"
    }
   ],
   "source": [
    "results[1]"
   ]
  }
 ],
 "metadata": {
  "kernelspec": {
   "display_name": "Python 3",
   "language": "python",
   "name": "python3"
  },
  "language_info": {
   "codemirror_mode": {
    "name": "ipython",
    "version": 3
   },
   "file_extension": ".py",
   "mimetype": "text/x-python",
   "name": "python",
   "nbconvert_exporter": "python",
   "pygments_lexer": "ipython3",
   "version": "3.8.5"
  }
 },
 "nbformat": 4,
 "nbformat_minor": 5
}
